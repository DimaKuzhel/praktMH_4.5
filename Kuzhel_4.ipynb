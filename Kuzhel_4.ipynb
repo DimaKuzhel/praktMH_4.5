{
 "cells": [
  {
   "cell_type": "code",
   "execution_count": 5,
   "metadata": {},
   "outputs": [
    {
     "name": "stdout",
     "output_type": "stream",
     "text": [
      "      price  area  bedrooms  bathrooms  stories mainroad guestroom basement  \\\n",
      "0  13300000  7420         4          2        3      yes        no       no   \n",
      "1  12250000  8960         4          4        4      yes        no       no   \n",
      "2  12250000  9960         3          2        2      yes        no      yes   \n",
      "3  12215000  7500         4          2        2      yes        no      yes   \n",
      "4  11410000  7420         4          1        2      yes       yes      yes   \n",
      "\n",
      "  hotwaterheating airconditioning  parking prefarea furnishingstatus  \n",
      "0              no             yes        2      yes        furnished  \n",
      "1              no             yes        3       no        furnished  \n",
      "2              no              no        2      yes   semi-furnished  \n",
      "3              no             yes        3      yes        furnished  \n",
      "4              no             yes        2       no        furnished  \n"
     ]
    }
   ],
   "source": [
    "import pandas as pd\n",
    "import numpy as np\n",
    "data = pd.read_csv('C:\\\\Users\\\\SHYLER\\\\Desktop\\\\mh\\\\4\\\\Housing .csv')\n",
    "print(data.head())"
   ]
  },
  {
   "cell_type": "code",
   "execution_count": 6,
   "metadata": {},
   "outputs": [
    {
     "name": "stdout",
     "output_type": "stream",
     "text": [
      "      price  area  bedrooms  bathrooms\n",
      "0  13300000  7420         4          2\n",
      "1  12250000  8960         4          4\n",
      "2  12250000  9960         3          2\n",
      "3  12215000  7500         4          2\n",
      "4  11410000  7420         4          1\n"
     ]
    }
   ],
   "source": [
    "selected_columns = ['price', 'area', 'bedrooms', 'bathrooms']\n",
    "new_dataset = data.loc[:, selected_columns]\n",
    "print(new_dataset.head())"
   ]
  },
  {
   "cell_type": "code",
   "execution_count": 7,
   "metadata": {},
   "outputs": [
    {
     "name": "stdout",
     "output_type": "stream",
     "text": [
      "price        int64\n",
      "area         int64\n",
      "bedrooms     int64\n",
      "bathrooms    int64\n",
      "dtype: object\n",
      "[13300000 12250000 12215000 11410000 10850000 10150000  9870000  9800000\n",
      "  9681000  9310000  9240000  9100000  8960000  8890000  8855000  8750000\n",
      "  8680000  8645000  8575000  8540000  8463000  8400000  8295000  8190000\n",
      "  8120000  8080940  8043000  7980000  7962500  7910000  7875000  7840000\n",
      "  7700000  7560000  7525000  7490000  7455000  7420000  7350000  7343000\n",
      "  7245000  7210000  7140000  7070000  7035000  7000000  6930000  6895000\n",
      "  6860000  6790000  6755000  6720000  6685000  6650000  6629000  6615000\n",
      "  6580000  6510000  6475000  6440000  6419000  6405000  6300000  6293000\n",
      "  6265000  6230000  6195000  6160000  6125000  6107500  6090000  6083000\n",
      "  6020000  5950000  5943000  5880000  5873000  5866000  5810000  5803000\n",
      "  5775000  5740000  5652500  5600000  5565000  5530000  5523000  5495000\n",
      "  5460000  5425000  5390000  5383000  5320000  5285000  5250000  5243000\n",
      "  5229000  5215000  5145000  5110000  5075000  5040000  5033000  5005000\n",
      "  4970000  4956000  4935000  4907000  4900000  4893000  4865000  4830000\n",
      "  4795000  4767000  4760000  4753000  4690000  4655000  4620000  4613000\n",
      "  4585000  4550000  4543000  4515000  4480000  4473000  4445000  4410000\n",
      "  4403000  4382000  4375000  4340000  4319000  4305000  4277000  4270000\n",
      "  4235000  4200000  4193000  4165000  4130000  4123000  4098500  4095000\n",
      "  4060000  4025000  4007500  3990000  3920000  3885000  3850000  3836000\n",
      "  3815000  3780000  3773000  3745000  3710000  3703000  3675000  3640000\n",
      "  3633000  3605000  3570000  3535000  3500000  3493000  3465000  3430000\n",
      "  3423000  3395000  3360000  3353000  3332000  3325000  3290000  3255000\n",
      "  3234000  3220000  3150000  3143000  3129000  3118850  3115000  3087000\n",
      "  3080000  3045000  3010000  3003000  2975000  2961000  2940000  2870000\n",
      "  2852500  2835000  2800000  2730000  2695000  2660000  2653000  2604000\n",
      "  2590000  2520000  2485000  2450000  2408000  2380000  2345000  2310000\n",
      "  2275000  2240000  2233000  2135000  2100000  1960000  1890000  1855000\n",
      "  1820000  1767150  1750000]\n",
      "[ 7420  8960  9960  7500  8580 16200  8100  5750 13200  6000  6550  3500\n",
      "  7800  6600  8500  4600  6420  4320  7155  8050  4560  8800  6540  8875\n",
      "  7950  5500  7475  7000  4880  5960  6840  7482  9000  6360  6480  4300\n",
      "  7440  6325  5150 11440  7680  8880  6240 11175  7700 12090  4000  5020\n",
      "  4040  4260  6500  5700 10500  3760  8250  6670  3960  7410  5000  6750\n",
      "  4800  7200  4100  6400  6350  4500  5450  3240  6615  8372  9620  6800\n",
      "  8000  6900  3700  7020  7231  6254  7320  6525 15600  7160 11460  5828\n",
      "  5200  5400  4640  5800  6660  4700  5136  4400  3300  3650  6100  2817\n",
      "  7980  3150  6210  6825  6710  6450 10269  8400  5300  3800  9800  8520\n",
      "  6050  7085  3180  3410  3000 11410  5720  3540  7600 10700  8150  4410\n",
      "  7686  2800  5948  4200  4520  4095  4120  4770  6300  2970  6720  4646\n",
      " 12900  3420  4995  4350  4160  6040  6862  4815  9166  6321 10240  6440\n",
      "  5170  3630  9667  3745  3880  5680  2870  5010  4510  3840  3640  2550\n",
      "  5320  5360  3520  4990  3510  3450  9860  5885  3162  3750  3968  4900\n",
      "  2880  4920  4950  3900  1905  4075  4032 10360  3400  2175  4360  7770\n",
      "  6650  2787  5040  5850  2610  2953  2747  2325  4079  2145  4840  4080\n",
      "  4046  4632  5985  6060  3600  3680  5600  5900  4992  4340  3460  4050\n",
      "  7260  3290  3816  8080  3780  7152  3850  2015  2176  3350  4820  5830\n",
      "  2856  2520  6930  3480  6020  3584  3120  5640  4280  3570  4130  2850\n",
      "  2275  4240  2135  3036  3990  7424  7350  3512  9500  5880 12944  3060\n",
      "  3185  1950  4785  4960  4750  3720  3100  2700  4775  2500  3792  3930\n",
      "  4370  2684  3986  1650  3069  5495  2398  2160  3090  2835  5076  4352\n",
      "  3660  3040  2640  2650  3934  2000  2430  2910  3210  3635  2475  3264\n",
      "  1836  3970  2400  3360  1700  3649  2990  3620]\n",
      "[4 3 5 2 6 1]\n",
      "[2 4 1 3]\n"
     ]
    }
   ],
   "source": [
    "print(new_dataset.dtypes)\n",
    "print(new_dataset['price'].unique())\n",
    "print(new_dataset['area'].unique())\n",
    "print(new_dataset['bedrooms'].unique())\n",
    "print(new_dataset['bathrooms'].unique())"
   ]
  },
  {
   "cell_type": "code",
   "execution_count": 8,
   "metadata": {},
   "outputs": [
    {
     "data": {
      "text/html": [
       "<div>\n",
       "<style scoped>\n",
       "    .dataframe tbody tr th:only-of-type {\n",
       "        vertical-align: middle;\n",
       "    }\n",
       "\n",
       "    .dataframe tbody tr th {\n",
       "        vertical-align: top;\n",
       "    }\n",
       "\n",
       "    .dataframe thead th {\n",
       "        text-align: right;\n",
       "    }\n",
       "</style>\n",
       "<table border=\"1\" class=\"dataframe\">\n",
       "  <thead>\n",
       "    <tr style=\"text-align: right;\">\n",
       "      <th></th>\n",
       "      <th>price</th>\n",
       "      <th>area</th>\n",
       "      <th>bedrooms</th>\n",
       "      <th>bathrooms</th>\n",
       "    </tr>\n",
       "  </thead>\n",
       "  <tbody>\n",
       "    <tr>\n",
       "      <th>0</th>\n",
       "      <td>13300000</td>\n",
       "      <td>7420</td>\n",
       "      <td>4</td>\n",
       "      <td>2</td>\n",
       "    </tr>\n",
       "    <tr>\n",
       "      <th>1</th>\n",
       "      <td>12250000</td>\n",
       "      <td>8960</td>\n",
       "      <td>4</td>\n",
       "      <td>4</td>\n",
       "    </tr>\n",
       "    <tr>\n",
       "      <th>2</th>\n",
       "      <td>12250000</td>\n",
       "      <td>9960</td>\n",
       "      <td>3</td>\n",
       "      <td>2</td>\n",
       "    </tr>\n",
       "    <tr>\n",
       "      <th>3</th>\n",
       "      <td>12215000</td>\n",
       "      <td>7500</td>\n",
       "      <td>4</td>\n",
       "      <td>2</td>\n",
       "    </tr>\n",
       "    <tr>\n",
       "      <th>4</th>\n",
       "      <td>11410000</td>\n",
       "      <td>7420</td>\n",
       "      <td>4</td>\n",
       "      <td>1</td>\n",
       "    </tr>\n",
       "    <tr>\n",
       "      <th>...</th>\n",
       "      <td>...</td>\n",
       "      <td>...</td>\n",
       "      <td>...</td>\n",
       "      <td>...</td>\n",
       "    </tr>\n",
       "    <tr>\n",
       "      <th>540</th>\n",
       "      <td>1820000</td>\n",
       "      <td>3000</td>\n",
       "      <td>2</td>\n",
       "      <td>1</td>\n",
       "    </tr>\n",
       "    <tr>\n",
       "      <th>541</th>\n",
       "      <td>1767150</td>\n",
       "      <td>2400</td>\n",
       "      <td>3</td>\n",
       "      <td>1</td>\n",
       "    </tr>\n",
       "    <tr>\n",
       "      <th>542</th>\n",
       "      <td>1750000</td>\n",
       "      <td>3620</td>\n",
       "      <td>2</td>\n",
       "      <td>1</td>\n",
       "    </tr>\n",
       "    <tr>\n",
       "      <th>543</th>\n",
       "      <td>1750000</td>\n",
       "      <td>2910</td>\n",
       "      <td>3</td>\n",
       "      <td>1</td>\n",
       "    </tr>\n",
       "    <tr>\n",
       "      <th>544</th>\n",
       "      <td>1750000</td>\n",
       "      <td>3850</td>\n",
       "      <td>3</td>\n",
       "      <td>1</td>\n",
       "    </tr>\n",
       "  </tbody>\n",
       "</table>\n",
       "<p>545 rows × 4 columns</p>\n",
       "</div>"
      ],
      "text/plain": [
       "        price  area  bedrooms  bathrooms\n",
       "0    13300000  7420         4          2\n",
       "1    12250000  8960         4          4\n",
       "2    12250000  9960         3          2\n",
       "3    12215000  7500         4          2\n",
       "4    11410000  7420         4          1\n",
       "..        ...   ...       ...        ...\n",
       "540   1820000  3000         2          1\n",
       "541   1767150  2400         3          1\n",
       "542   1750000  3620         2          1\n",
       "543   1750000  2910         3          1\n",
       "544   1750000  3850         3          1\n",
       "\n",
       "[545 rows x 4 columns]"
      ]
     },
     "execution_count": 8,
     "metadata": {},
     "output_type": "execute_result"
    }
   ],
   "source": [
    "new_dataset"
   ]
  },
  {
   "cell_type": "code",
   "execution_count": 9,
   "metadata": {},
   "outputs": [],
   "source": [
    "new_dataset = new_dataset.replace('-', float('nan'))"
   ]
  },
  {
   "cell_type": "code",
   "execution_count": 12,
   "metadata": {},
   "outputs": [],
   "source": [
    "new_dataset['price'] = new_dataset['price'].astype(float)\n",
    "new_dataset['area'] = new_dataset['area'].astype(float)\n",
    "new_dataset['bedrooms'] = new_dataset['bedrooms'].astype(float)\n",
    "new_dataset['bathrooms'] = new_dataset['bathrooms'].astype(float)"
   ]
  },
  {
   "cell_type": "code",
   "execution_count": 13,
   "metadata": {},
   "outputs": [
    {
     "data": {
      "text/html": [
       "<div>\n",
       "<style scoped>\n",
       "    .dataframe tbody tr th:only-of-type {\n",
       "        vertical-align: middle;\n",
       "    }\n",
       "\n",
       "    .dataframe tbody tr th {\n",
       "        vertical-align: top;\n",
       "    }\n",
       "\n",
       "    .dataframe thead th {\n",
       "        text-align: right;\n",
       "    }\n",
       "</style>\n",
       "<table border=\"1\" class=\"dataframe\">\n",
       "  <thead>\n",
       "    <tr style=\"text-align: right;\">\n",
       "      <th></th>\n",
       "      <th>price</th>\n",
       "      <th>area</th>\n",
       "      <th>bedrooms</th>\n",
       "      <th>bathrooms</th>\n",
       "    </tr>\n",
       "  </thead>\n",
       "  <tbody>\n",
       "    <tr>\n",
       "      <th>0</th>\n",
       "      <td>13300000.0</td>\n",
       "      <td>7420.0</td>\n",
       "      <td>4.0</td>\n",
       "      <td>2.0</td>\n",
       "    </tr>\n",
       "    <tr>\n",
       "      <th>1</th>\n",
       "      <td>12250000.0</td>\n",
       "      <td>8960.0</td>\n",
       "      <td>4.0</td>\n",
       "      <td>4.0</td>\n",
       "    </tr>\n",
       "    <tr>\n",
       "      <th>2</th>\n",
       "      <td>12250000.0</td>\n",
       "      <td>9960.0</td>\n",
       "      <td>3.0</td>\n",
       "      <td>2.0</td>\n",
       "    </tr>\n",
       "    <tr>\n",
       "      <th>3</th>\n",
       "      <td>12215000.0</td>\n",
       "      <td>7500.0</td>\n",
       "      <td>4.0</td>\n",
       "      <td>2.0</td>\n",
       "    </tr>\n",
       "    <tr>\n",
       "      <th>4</th>\n",
       "      <td>11410000.0</td>\n",
       "      <td>7420.0</td>\n",
       "      <td>4.0</td>\n",
       "      <td>1.0</td>\n",
       "    </tr>\n",
       "    <tr>\n",
       "      <th>...</th>\n",
       "      <td>...</td>\n",
       "      <td>...</td>\n",
       "      <td>...</td>\n",
       "      <td>...</td>\n",
       "    </tr>\n",
       "    <tr>\n",
       "      <th>540</th>\n",
       "      <td>1820000.0</td>\n",
       "      <td>3000.0</td>\n",
       "      <td>2.0</td>\n",
       "      <td>1.0</td>\n",
       "    </tr>\n",
       "    <tr>\n",
       "      <th>541</th>\n",
       "      <td>1767150.0</td>\n",
       "      <td>2400.0</td>\n",
       "      <td>3.0</td>\n",
       "      <td>1.0</td>\n",
       "    </tr>\n",
       "    <tr>\n",
       "      <th>542</th>\n",
       "      <td>1750000.0</td>\n",
       "      <td>3620.0</td>\n",
       "      <td>2.0</td>\n",
       "      <td>1.0</td>\n",
       "    </tr>\n",
       "    <tr>\n",
       "      <th>543</th>\n",
       "      <td>1750000.0</td>\n",
       "      <td>2910.0</td>\n",
       "      <td>3.0</td>\n",
       "      <td>1.0</td>\n",
       "    </tr>\n",
       "    <tr>\n",
       "      <th>544</th>\n",
       "      <td>1750000.0</td>\n",
       "      <td>3850.0</td>\n",
       "      <td>3.0</td>\n",
       "      <td>1.0</td>\n",
       "    </tr>\n",
       "  </tbody>\n",
       "</table>\n",
       "<p>545 rows × 4 columns</p>\n",
       "</div>"
      ],
      "text/plain": [
       "          price    area  bedrooms  bathrooms\n",
       "0    13300000.0  7420.0       4.0        2.0\n",
       "1    12250000.0  8960.0       4.0        4.0\n",
       "2    12250000.0  9960.0       3.0        2.0\n",
       "3    12215000.0  7500.0       4.0        2.0\n",
       "4    11410000.0  7420.0       4.0        1.0\n",
       "..          ...     ...       ...        ...\n",
       "540   1820000.0  3000.0       2.0        1.0\n",
       "541   1767150.0  2400.0       3.0        1.0\n",
       "542   1750000.0  3620.0       2.0        1.0\n",
       "543   1750000.0  2910.0       3.0        1.0\n",
       "544   1750000.0  3850.0       3.0        1.0\n",
       "\n",
       "[545 rows x 4 columns]"
      ]
     },
     "execution_count": 13,
     "metadata": {},
     "output_type": "execute_result"
    }
   ],
   "source": [
    "new_dataset"
   ]
  },
  {
   "cell_type": "code",
   "execution_count": 14,
   "metadata": {},
   "outputs": [
    {
     "name": "stdout",
     "output_type": "stream",
     "text": [
      "Середнє значення ціни: 4766729.247706422\n",
      "Середнє значення площі: 5150.54128440367\n",
      "Середнє значення кількості спалень: 2.9651376146788992\n",
      "Середнє значення кількості ванн: 1.2862385321100918\n"
     ]
    }
   ],
   "source": [
    "price_mean = new_dataset['price'].mean()\n",
    "area_mean = new_dataset['area'].mean()\n",
    "bedrooms_mean = new_dataset['bedrooms'].mean()\n",
    "bathrooms_mean = new_dataset['bathrooms'].mean()\n",
    "print(f'Середнє значення ціни: {price_mean}')\n",
    "print(f'Середнє значення площі: {area_mean}')\n",
    "print(f'Середнє значення кількості спалень: {bedrooms_mean}')\n",
    "print(f'Середнє значення кількості ванн: {bathrooms_mean}')"
   ]
  },
  {
   "cell_type": "code",
   "execution_count": 15,
   "metadata": {},
   "outputs": [],
   "source": [
    "mean = new_dataset.mean()\n",
    "std = new_dataset.std()\n",
    "new_dataset_normalized = (new_dataset - mean) / std"
   ]
  },
  {
   "cell_type": "code",
   "execution_count": 16,
   "metadata": {},
   "outputs": [
    {
     "data": {
      "text/html": [
       "<div>\n",
       "<style scoped>\n",
       "    .dataframe tbody tr th:only-of-type {\n",
       "        vertical-align: middle;\n",
       "    }\n",
       "\n",
       "    .dataframe tbody tr th {\n",
       "        vertical-align: top;\n",
       "    }\n",
       "\n",
       "    .dataframe thead th {\n",
       "        text-align: right;\n",
       "    }\n",
       "</style>\n",
       "<table border=\"1\" class=\"dataframe\">\n",
       "  <thead>\n",
       "    <tr style=\"text-align: right;\">\n",
       "      <th></th>\n",
       "      <th>price</th>\n",
       "      <th>area</th>\n",
       "      <th>bedrooms</th>\n",
       "      <th>bathrooms</th>\n",
       "    </tr>\n",
       "  </thead>\n",
       "  <tbody>\n",
       "    <tr>\n",
       "      <th>0</th>\n",
       "      <td>13300000.0</td>\n",
       "      <td>7420.0</td>\n",
       "      <td>4.0</td>\n",
       "      <td>2.0</td>\n",
       "    </tr>\n",
       "    <tr>\n",
       "      <th>1</th>\n",
       "      <td>12250000.0</td>\n",
       "      <td>8960.0</td>\n",
       "      <td>4.0</td>\n",
       "      <td>4.0</td>\n",
       "    </tr>\n",
       "    <tr>\n",
       "      <th>2</th>\n",
       "      <td>12250000.0</td>\n",
       "      <td>9960.0</td>\n",
       "      <td>3.0</td>\n",
       "      <td>2.0</td>\n",
       "    </tr>\n",
       "    <tr>\n",
       "      <th>3</th>\n",
       "      <td>12215000.0</td>\n",
       "      <td>7500.0</td>\n",
       "      <td>4.0</td>\n",
       "      <td>2.0</td>\n",
       "    </tr>\n",
       "    <tr>\n",
       "      <th>4</th>\n",
       "      <td>11410000.0</td>\n",
       "      <td>7420.0</td>\n",
       "      <td>4.0</td>\n",
       "      <td>1.0</td>\n",
       "    </tr>\n",
       "    <tr>\n",
       "      <th>...</th>\n",
       "      <td>...</td>\n",
       "      <td>...</td>\n",
       "      <td>...</td>\n",
       "      <td>...</td>\n",
       "    </tr>\n",
       "    <tr>\n",
       "      <th>540</th>\n",
       "      <td>1820000.0</td>\n",
       "      <td>3000.0</td>\n",
       "      <td>2.0</td>\n",
       "      <td>1.0</td>\n",
       "    </tr>\n",
       "    <tr>\n",
       "      <th>541</th>\n",
       "      <td>1767150.0</td>\n",
       "      <td>2400.0</td>\n",
       "      <td>3.0</td>\n",
       "      <td>1.0</td>\n",
       "    </tr>\n",
       "    <tr>\n",
       "      <th>542</th>\n",
       "      <td>1750000.0</td>\n",
       "      <td>3620.0</td>\n",
       "      <td>2.0</td>\n",
       "      <td>1.0</td>\n",
       "    </tr>\n",
       "    <tr>\n",
       "      <th>543</th>\n",
       "      <td>1750000.0</td>\n",
       "      <td>2910.0</td>\n",
       "      <td>3.0</td>\n",
       "      <td>1.0</td>\n",
       "    </tr>\n",
       "    <tr>\n",
       "      <th>544</th>\n",
       "      <td>1750000.0</td>\n",
       "      <td>3850.0</td>\n",
       "      <td>3.0</td>\n",
       "      <td>1.0</td>\n",
       "    </tr>\n",
       "  </tbody>\n",
       "</table>\n",
       "<p>545 rows × 4 columns</p>\n",
       "</div>"
      ],
      "text/plain": [
       "          price    area  bedrooms  bathrooms\n",
       "0    13300000.0  7420.0       4.0        2.0\n",
       "1    12250000.0  8960.0       4.0        4.0\n",
       "2    12250000.0  9960.0       3.0        2.0\n",
       "3    12215000.0  7500.0       4.0        2.0\n",
       "4    11410000.0  7420.0       4.0        1.0\n",
       "..          ...     ...       ...        ...\n",
       "540   1820000.0  3000.0       2.0        1.0\n",
       "541   1767150.0  2400.0       3.0        1.0\n",
       "542   1750000.0  3620.0       2.0        1.0\n",
       "543   1750000.0  2910.0       3.0        1.0\n",
       "544   1750000.0  3850.0       3.0        1.0\n",
       "\n",
       "[545 rows x 4 columns]"
      ]
     },
     "execution_count": 16,
     "metadata": {},
     "output_type": "execute_result"
    }
   ],
   "source": [
    "new_dataset"
   ]
  },
  {
   "cell_type": "code",
   "execution_count": 17,
   "metadata": {},
   "outputs": [],
   "source": [
    "X = new_dataset[['area', 'bathrooms', 'bedrooms']]\n",
    "target = new_dataset['price']\n",
    "y = target"
   ]
  },
  {
   "cell_type": "code",
   "execution_count": 14,
   "metadata": {},
   "outputs": [
    {
     "data": {
      "text/html": [
       "<div>\n",
       "<style scoped>\n",
       "    .dataframe tbody tr th:only-of-type {\n",
       "        vertical-align: middle;\n",
       "    }\n",
       "\n",
       "    .dataframe tbody tr th {\n",
       "        vertical-align: top;\n",
       "    }\n",
       "\n",
       "    .dataframe thead th {\n",
       "        text-align: right;\n",
       "    }\n",
       "</style>\n",
       "<table border=\"1\" class=\"dataframe\">\n",
       "  <thead>\n",
       "    <tr style=\"text-align: right;\">\n",
       "      <th></th>\n",
       "      <th>price</th>\n",
       "      <th>area</th>\n",
       "      <th>bedrooms</th>\n",
       "      <th>bathrooms</th>\n",
       "    </tr>\n",
       "  </thead>\n",
       "  <tbody>\n",
       "    <tr>\n",
       "      <th>0</th>\n",
       "      <td>13300000.0</td>\n",
       "      <td>7420.0</td>\n",
       "      <td>4.0</td>\n",
       "      <td>2.0</td>\n",
       "    </tr>\n",
       "    <tr>\n",
       "      <th>1</th>\n",
       "      <td>12250000.0</td>\n",
       "      <td>8960.0</td>\n",
       "      <td>4.0</td>\n",
       "      <td>4.0</td>\n",
       "    </tr>\n",
       "    <tr>\n",
       "      <th>2</th>\n",
       "      <td>12250000.0</td>\n",
       "      <td>9960.0</td>\n",
       "      <td>3.0</td>\n",
       "      <td>2.0</td>\n",
       "    </tr>\n",
       "    <tr>\n",
       "      <th>3</th>\n",
       "      <td>12215000.0</td>\n",
       "      <td>7500.0</td>\n",
       "      <td>4.0</td>\n",
       "      <td>2.0</td>\n",
       "    </tr>\n",
       "    <tr>\n",
       "      <th>4</th>\n",
       "      <td>11410000.0</td>\n",
       "      <td>7420.0</td>\n",
       "      <td>4.0</td>\n",
       "      <td>1.0</td>\n",
       "    </tr>\n",
       "    <tr>\n",
       "      <th>...</th>\n",
       "      <td>...</td>\n",
       "      <td>...</td>\n",
       "      <td>...</td>\n",
       "      <td>...</td>\n",
       "    </tr>\n",
       "    <tr>\n",
       "      <th>540</th>\n",
       "      <td>1820000.0</td>\n",
       "      <td>3000.0</td>\n",
       "      <td>2.0</td>\n",
       "      <td>1.0</td>\n",
       "    </tr>\n",
       "    <tr>\n",
       "      <th>541</th>\n",
       "      <td>1767150.0</td>\n",
       "      <td>2400.0</td>\n",
       "      <td>3.0</td>\n",
       "      <td>1.0</td>\n",
       "    </tr>\n",
       "    <tr>\n",
       "      <th>542</th>\n",
       "      <td>1750000.0</td>\n",
       "      <td>3620.0</td>\n",
       "      <td>2.0</td>\n",
       "      <td>1.0</td>\n",
       "    </tr>\n",
       "    <tr>\n",
       "      <th>543</th>\n",
       "      <td>1750000.0</td>\n",
       "      <td>2910.0</td>\n",
       "      <td>3.0</td>\n",
       "      <td>1.0</td>\n",
       "    </tr>\n",
       "    <tr>\n",
       "      <th>544</th>\n",
       "      <td>1750000.0</td>\n",
       "      <td>3850.0</td>\n",
       "      <td>3.0</td>\n",
       "      <td>1.0</td>\n",
       "    </tr>\n",
       "  </tbody>\n",
       "</table>\n",
       "<p>545 rows × 4 columns</p>\n",
       "</div>"
      ],
      "text/plain": [
       "          price    area  bedrooms  bathrooms\n",
       "0    13300000.0  7420.0       4.0        2.0\n",
       "1    12250000.0  8960.0       4.0        4.0\n",
       "2    12250000.0  9960.0       3.0        2.0\n",
       "3    12215000.0  7500.0       4.0        2.0\n",
       "4    11410000.0  7420.0       4.0        1.0\n",
       "..          ...     ...       ...        ...\n",
       "540   1820000.0  3000.0       2.0        1.0\n",
       "541   1767150.0  2400.0       3.0        1.0\n",
       "542   1750000.0  3620.0       2.0        1.0\n",
       "543   1750000.0  2910.0       3.0        1.0\n",
       "544   1750000.0  3850.0       3.0        1.0\n",
       "\n",
       "[545 rows x 4 columns]"
      ]
     },
     "execution_count": 14,
     "metadata": {},
     "output_type": "execute_result"
    }
   ],
   "source": [
    "new_dataset"
   ]
  },
  {
   "cell_type": "code",
   "execution_count": 18,
   "metadata": {},
   "outputs": [
    {
     "data": {
      "text/html": [
       "<style>#sk-container-id-1 {color: black;}#sk-container-id-1 pre{padding: 0;}#sk-container-id-1 div.sk-toggleable {background-color: white;}#sk-container-id-1 label.sk-toggleable__label {cursor: pointer;display: block;width: 100%;margin-bottom: 0;padding: 0.3em;box-sizing: border-box;text-align: center;}#sk-container-id-1 label.sk-toggleable__label-arrow:before {content: \"▸\";float: left;margin-right: 0.25em;color: #696969;}#sk-container-id-1 label.sk-toggleable__label-arrow:hover:before {color: black;}#sk-container-id-1 div.sk-estimator:hover label.sk-toggleable__label-arrow:before {color: black;}#sk-container-id-1 div.sk-toggleable__content {max-height: 0;max-width: 0;overflow: hidden;text-align: left;background-color: #f0f8ff;}#sk-container-id-1 div.sk-toggleable__content pre {margin: 0.2em;color: black;border-radius: 0.25em;background-color: #f0f8ff;}#sk-container-id-1 input.sk-toggleable__control:checked~div.sk-toggleable__content {max-height: 200px;max-width: 100%;overflow: auto;}#sk-container-id-1 input.sk-toggleable__control:checked~label.sk-toggleable__label-arrow:before {content: \"▾\";}#sk-container-id-1 div.sk-estimator input.sk-toggleable__control:checked~label.sk-toggleable__label {background-color: #d4ebff;}#sk-container-id-1 div.sk-label input.sk-toggleable__control:checked~label.sk-toggleable__label {background-color: #d4ebff;}#sk-container-id-1 input.sk-hidden--visually {border: 0;clip: rect(1px 1px 1px 1px);clip: rect(1px, 1px, 1px, 1px);height: 1px;margin: -1px;overflow: hidden;padding: 0;position: absolute;width: 1px;}#sk-container-id-1 div.sk-estimator {font-family: monospace;background-color: #f0f8ff;border: 1px dotted black;border-radius: 0.25em;box-sizing: border-box;margin-bottom: 0.5em;}#sk-container-id-1 div.sk-estimator:hover {background-color: #d4ebff;}#sk-container-id-1 div.sk-parallel-item::after {content: \"\";width: 100%;border-bottom: 1px solid gray;flex-grow: 1;}#sk-container-id-1 div.sk-label:hover label.sk-toggleable__label {background-color: #d4ebff;}#sk-container-id-1 div.sk-serial::before {content: \"\";position: absolute;border-left: 1px solid gray;box-sizing: border-box;top: 0;bottom: 0;left: 50%;z-index: 0;}#sk-container-id-1 div.sk-serial {display: flex;flex-direction: column;align-items: center;background-color: white;padding-right: 0.2em;padding-left: 0.2em;position: relative;}#sk-container-id-1 div.sk-item {position: relative;z-index: 1;}#sk-container-id-1 div.sk-parallel {display: flex;align-items: stretch;justify-content: center;background-color: white;position: relative;}#sk-container-id-1 div.sk-item::before, #sk-container-id-1 div.sk-parallel-item::before {content: \"\";position: absolute;border-left: 1px solid gray;box-sizing: border-box;top: 0;bottom: 0;left: 50%;z-index: -1;}#sk-container-id-1 div.sk-parallel-item {display: flex;flex-direction: column;z-index: 1;position: relative;background-color: white;}#sk-container-id-1 div.sk-parallel-item:first-child::after {align-self: flex-end;width: 50%;}#sk-container-id-1 div.sk-parallel-item:last-child::after {align-self: flex-start;width: 50%;}#sk-container-id-1 div.sk-parallel-item:only-child::after {width: 0;}#sk-container-id-1 div.sk-dashed-wrapped {border: 1px dashed gray;margin: 0 0.4em 0.5em 0.4em;box-sizing: border-box;padding-bottom: 0.4em;background-color: white;}#sk-container-id-1 div.sk-label label {font-family: monospace;font-weight: bold;display: inline-block;line-height: 1.2em;}#sk-container-id-1 div.sk-label-container {text-align: center;}#sk-container-id-1 div.sk-container {/* jupyter's `normalize.less` sets `[hidden] { display: none; }` but bootstrap.min.css set `[hidden] { display: none !important; }` so we also need the `!important` here to be able to override the default hidden behavior on the sphinx rendered scikit-learn.org. See: https://github.com/scikit-learn/scikit-learn/issues/21755 */display: inline-block !important;position: relative;}#sk-container-id-1 div.sk-text-repr-fallback {display: none;}</style><div id=\"sk-container-id-1\" class=\"sk-top-container\"><div class=\"sk-text-repr-fallback\"><pre>LinearRegression()</pre><b>In a Jupyter environment, please rerun this cell to show the HTML representation or trust the notebook. <br />On GitHub, the HTML representation is unable to render, please try loading this page with nbviewer.org.</b></div><div class=\"sk-container\" hidden><div class=\"sk-item\"><div class=\"sk-estimator sk-toggleable\"><input class=\"sk-toggleable__control sk-hidden--visually\" id=\"sk-estimator-id-1\" type=\"checkbox\" checked><label for=\"sk-estimator-id-1\" class=\"sk-toggleable__label sk-toggleable__label-arrow\">LinearRegression</label><div class=\"sk-toggleable__content\"><pre>LinearRegression()</pre></div></div></div></div></div>"
      ],
      "text/plain": [
       "LinearRegression()"
      ]
     },
     "execution_count": 18,
     "metadata": {},
     "output_type": "execute_result"
    }
   ],
   "source": [
    "from sklearn.linear_model import LinearRegression\n",
    "X_train = new_dataset[['area', 'bathrooms', 'bedrooms']]\n",
    "y_train = new_dataset['price']\n",
    "model = LinearRegression()\n",
    "model.fit(X_train, y_train)"
   ]
  },
  {
   "cell_type": "code",
   "execution_count": 19,
   "metadata": {},
   "outputs": [
    {
     "name": "stdout",
     "output_type": "stream",
     "text": [
      "Середньоквадратична помилка (RMSE): 1338346.0127998735\n",
      "Коефіцієнт детермінації (R^2): 0.4870830667058762\n"
     ]
    }
   ],
   "source": [
    "from sklearn.metrics import mean_squared_error, r2_score\n",
    "X_test = new_dataset[['area', 'bathrooms', 'bedrooms']]\n",
    "y_test = new_dataset['price']\n",
    "y_pred = model.predict(X_test)\n",
    "rmse = np.sqrt(mean_squared_error(y_test, y_pred))\n",
    "r2 = r2_score(y_test, y_pred)\n",
    "print(f\"Середньоквадратична помилка (RMSE): {rmse}\")\n",
    "print(f\"Коефіцієнт детермінації (R^2): {r2}\")"
   ]
  },
  {
   "cell_type": "code",
   "execution_count": 23,
   "metadata": {},
   "outputs": [
    {
     "name": "stdout",
     "output_type": "stream",
     "text": [
      "Середнє RMSE на основі крос-валідації: 1572125.3382021869\n"
     ]
    }
   ],
   "source": [
    "from sklearn.model_selection import cross_val_score\n",
    "scores = cross_val_score(model, X_train, y_train, cv=5, scoring='neg_mean_squared_error')\n",
    "rmse_cv = np.sqrt(-scores)\n",
    "mean_rmse_cv = np.mean(rmse_cv)\n",
    "print(f\"Середнє RMSE на основі крос-валідації: {mean_rmse_cv}\")"
   ]
  },
  {
   "cell_type": "code",
   "execution_count": 20,
   "metadata": {},
   "outputs": [
    {
     "name": "stdout",
     "output_type": "stream",
     "text": [
      "     Фактична ціна  Прогнозована ціна\n",
      "0       13300000.0       7.036627e+06\n",
      "1       12250000.0       1.039202e+07\n",
      "2       12250000.0       7.591865e+06\n",
      "3       12215000.0       7.066928e+06\n",
      "4       11410000.0       5.650578e+06\n",
      "..             ...                ...\n",
      "540      1820000.0       3.162806e+06\n",
      "541      1767150.0       3.342369e+06\n",
      "542      1750000.0       3.397639e+06\n",
      "543      1750000.0       3.535538e+06\n",
      "544      1750000.0       3.891575e+06\n",
      "\n",
      "[545 rows x 2 columns]\n"
     ]
    }
   ],
   "source": [
    "y_pred = model.predict(X_test)\n",
    "predictions_df = pd.DataFrame({'Фактична ціна': y_test, 'Прогнозована ціна': y_pred})\n",
    "print(predictions_df)"
   ]
  },
  {
   "cell_type": "code",
   "execution_count": 21,
   "metadata": {},
   "outputs": [
    {
     "data": {
      "image/png": "[encoded data removed]",
      "text/plain": [
       "<Figure size 800x600 with 1 Axes>"
      ]
     },
     "metadata": {},
     "output_type": "display_data"
    },
    {
     "data": {
      "image/png": "[encoded data removed]",
      "text/plain": [
       "<Figure size 800x600 with 1 Axes>"
      ]
     },
     "metadata": {},
     "output_type": "display_data"
    },
    {
     "data": {
      "image/png": "[encoded data removed]",
      "text/plain": [
       "<Figure size 800x600 with 1 Axes>"
      ]
     },
     "metadata": {},
     "output_type": "display_data"
    }
   ],
   "source": [
    "import matplotlib.pyplot as plt\n",
    "\n",
    "plt.figure(figsize=(8, 6))\n",
    "plt.hist(data['area'], bins=30, color='red', alpha=0.7)\n",
    "plt.title('Розподіл Площі')\n",
    "plt.xlabel('Площа (кв. футів)')\n",
    "plt.ylabel('Кількість')\n",
    "plt.show()\n",
    "plt.figure(figsize=(8, 6))\n",
    "plt.hist(data['bathrooms'], bins=15, color='blue', alpha=0.7)\n",
    "plt.title('Розподіл Кількості Ванних Кімнат')\n",
    "plt.xlabel('Кількість Ванних Кімнат')\n",
    "plt.ylabel('Кількість')\n",
    "plt.show()\n",
    "plt.figure(figsize=(8, 6))\n",
    "plt.hist(data['bedrooms'], bins=10, color='green', alpha=0.7)\n",
    "plt.title('Розподіл Кількості Спалень')\n",
    "plt.xlabel('Кількість Спалень')\n",
    "plt.ylabel('Кількість')\n",
    "plt.show()"
   ]
  },
  {
   "cell_type": "code",
   "execution_count": 22,
   "metadata": {},
   "outputs": [
    {
     "data": {
      "image/png": "[encoded data removed]",
      "text/plain": [
       "<Figure size 800x600 with 1 Axes>"
      ]
     },
     "metadata": {},
     "output_type": "display_data"
    }
   ],
   "source": [
    "y_pred = model.predict(X_test)\n",
    "\n",
    "plt.figure(figsize=(8, 6))\n",
    "plt.scatter(y_test, y_pred, color='brown', alpha=0.7)\n",
    "plt.title('Результати Лінійної Регресії')\n",
    "plt.xlabel('Фактичні Ціни на Будинки')\n",
    "plt.ylabel('Прогнозовані Ціни на Будинки')\n",
    "plt.show()"
   ]
  },
  {
   "cell_type": "code",
   "execution_count": 23,
   "metadata": {},
   "outputs": [
    {
     "name": "stdout",
     "output_type": "stream",
     "text": [
      "Коефіцієнти моделі:\n",
      "Коефіцієнти атрибутів: [3.78762754e+02 1.38604950e+06 4.06820034e+05]\n",
      "Перехоплення: -173171.60763263516\n"
     ]
    }
   ],
   "source": [
    "coefficients = model.coef_\n",
    "intercept = model.intercept_\n",
    "print(\"Коефіцієнти моделі:\")\n",
    "print(\"Коефіцієнти атрибутів:\", coefficients)\n",
    "print(\"Перехоплення:\", intercept)"
   ]
  },
  {
   "cell_type": "markdown",
   "metadata": {},
   "source": [
    "У ході дослідження лінійної регресії для прогнозування цін на нерухомість, я визначив ключові висновки. Лінійна регресія виявилася ефективною за умови правильної підготовки даних та адекватної оцінки результатів. Важливо використовувати набір даних із різними характеристиками будинків.\n",
    "\n",
    "Аналіз даних дозволив виявити та виправити відсутні значення та помилки. Використання нормалізації даних покращило ефективність моделі, навченої на навчальних даних, що дало точні прогнози для тестового набору.\n",
    "\n",
    "Оцінка моделі за допомогою метрик, таких як RMSE і R^2, підтвердила її високу ефективність. Порівняння числових значень коефіцієнтів моделі підтвердило їхню правильність.\n",
    "\n",
    "Побудова графіків візуалізації даних та результатів лінійної регресії допомогла глибше розуміти залежність між атрибутами та цінами на нерухомість.\n"
   ]
  }
 ],
 "metadata": {
  "kernelspec": {
   "display_name": "Python 3",
   "language": "python",
   "name": "python3"
  },
  "language_info": {
   "codemirror_mode": {
    "name": "ipython",
    "version": 3
   },
   "file_extension": ".py",
   "mimetype": "text/x-python",
   "name": "python",
   "nbconvert_exporter": "python",
   "pygments_lexer": "ipython3",
   "version": "3.11.4"
  },
  "orig_nbformat": 4
 },
 "nbformat": 4,
 "nbformat_minor": 2
}
